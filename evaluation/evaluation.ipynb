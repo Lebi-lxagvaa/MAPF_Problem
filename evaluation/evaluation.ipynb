{
 "cells": [
  {
   "attachments": {},
   "cell_type": "markdown",
   "metadata": {},
   "source": [
    "# Import\n",
    "Import the benchmarking data and libraries."
   ]
  },
  {
   "cell_type": "code",
   "execution_count": null,
   "metadata": {},
   "outputs": [],
   "source": [
    "import pandas as pd\n",
    "import matplotlib.pyplot as plt\n",
    "\n",
    "# Import dataframe from CSV\n",
    "output = pd.read_csv('output.csv')"
   ]
  },
  {
   "attachments": {},
   "cell_type": "markdown",
   "metadata": {},
   "source": [
    "# Preprocessing"
   ]
  },
  {
   "cell_type": "code",
   "execution_count": null,
   "metadata": {},
   "outputs": [],
   "source": [
    "# drop the first column\n",
    "output = output.iloc[:,1:]\n",
    "\n",
    "# Calculate the average of each column\n",
    "averages = output.mean(numeric_only=True)"
   ]
  },
  {
   "attachments": {},
   "cell_type": "markdown",
   "metadata": {},
   "source": [
    "# Plot Averages"
   ]
  },
  {
   "cell_type": "code",
   "execution_count": null,
   "metadata": {},
   "outputs": [],
   "source": [
    "plt.bar([\"Normal\",\"Pruning\"],\n",
    "        averages[[\"Normal Total\", \"Pruning Total\"]])\n",
    "plt.xlabel(\"Encoding\")\n",
    "plt.ylabel(\"Average Time (s)\")\n",
    "plt.show()"
   ]
  },
  {
   "attachments": {},
   "cell_type": "markdown",
   "metadata": {},
   "source": [
    "# Bar Plot per Encoding"
   ]
  },
  {
   "cell_type": "code",
   "execution_count": null,
   "metadata": {},
   "outputs": [],
   "source": [
    "\n",
    "# Create a pivot table to format the data for plotting\n",
    "pivot = output.pivot(index='File', columns='Type', values='Value')\n",
    "\n",
    "# Plot the grouped bar chart\n",
    "pivot.plot(kind='bar', figsize=(10, 5))\n",
    "\n",
    "# Add labels and title to the plot\n",
    "plt.xlabel('File')\n",
    "plt.ylabel('Value')\n",
    "plt.title('Normal Total vs Pruning Total')\n",
    "\n",
    "# Show the plot\n",
    "plt.show()"
   ]
  }
 ],
 "metadata": {
  "kernelspec": {
   "display_name": "asprilo",
   "language": "python",
   "name": "python3"
  },
  "language_info": {
   "codemirror_mode": {
    "name": "ipython",
    "version": 3
   },
   "file_extension": ".py",
   "mimetype": "text/x-python",
   "name": "python",
   "nbconvert_exporter": "python",
   "pygments_lexer": "ipython3",
   "version": "3.9.15 (main, Nov 24 2022, 14:31:59) \n[GCC 11.2.0]"
  },
  "orig_nbformat": 4,
  "vscode": {
   "interpreter": {
    "hash": "0d5741c6e18d232f7c44828b9f5b4413d13365f5233b7b9861828b0cc7ecf7d4"
   }
  }
 },
 "nbformat": 4,
 "nbformat_minor": 2
}
